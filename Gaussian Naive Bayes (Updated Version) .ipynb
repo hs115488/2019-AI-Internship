{
 "cells": [
  {
   "cell_type": "code",
   "execution_count": 65,
   "metadata": {},
   "outputs": [],
   "source": [
    "import pandas as pd\n",
    "import numpy as np\n",
    "from sklearn.preprocessing import Imputer\n",
    "from sklearn import preprocessing\n",
    "from sklearn.model_selection import train_test_split\n",
    "from sklearn.naive_bayes import GaussianNB\n",
    "from sklearn.metrics import accuracy_score"
   ]
  },
  {
   "cell_type": "code",
   "execution_count": 66,
   "metadata": {},
   "outputs": [],
   "source": [
    "stock_df = pd.read_csv('Stocks.csv',\n",
    "                       header = None, delimiter=' *, *', engine='python')"
   ]
  },
  {
   "cell_type": "code",
   "execution_count": 67,
   "metadata": {},
   "outputs": [],
   "source": [
    "stock_df.columns = ['Date', 'Open', 'Close', 'High', 'Low',\n",
    "                    'Volume', 'Adj Close']"
   ]
  },
  {
   "cell_type": "code",
   "execution_count": 68,
   "metadata": {},
   "outputs": [
    {
     "data": {
      "text/plain": [
       "Date         0\n",
       "Open         0\n",
       "Close        0\n",
       "High         0\n",
       "Low          0\n",
       "Volume       0\n",
       "Adj Close    0\n",
       "dtype: int64"
      ]
     },
     "execution_count": 68,
     "metadata": {},
     "output_type": "execute_result"
    }
   ],
   "source": [
    "stock_df.isnull().sum()"
   ]
  },
  {
   "cell_type": "code",
   "execution_count": 69,
   "metadata": {},
   "outputs": [
    {
     "name": "stdout",
     "output_type": "stream",
     "text": [
      "Date : 0\n",
      "Open : 0\n",
      "Close : 0\n",
      "High : 0\n",
      "Low : 0\n",
      "Volume : 0\n",
      "Adj Close : 0\n"
     ]
    }
   ],
   "source": [
    "for value in ['Date', 'Open',\n",
    "          'Close', 'High',\n",
    "          'Low','Volume', 'Adj Close']:\n",
    "    print(value,\":\", sum(stock_df[value] == '?'))"
   ]
  },
  {
   "cell_type": "code",
   "execution_count": 70,
   "metadata": {},
   "outputs": [],
   "source": [
    "stock_df_rev = stock_df"
   ]
  },
  {
   "cell_type": "code",
   "execution_count": 71,
   "metadata": {},
   "outputs": [
    {
     "data": {
      "text/html": [
       "<div>\n",
       "<style scoped>\n",
       "    .dataframe tbody tr th:only-of-type {\n",
       "        vertical-align: middle;\n",
       "    }\n",
       "\n",
       "    .dataframe tbody tr th {\n",
       "        vertical-align: top;\n",
       "    }\n",
       "\n",
       "    .dataframe thead th {\n",
       "        text-align: right;\n",
       "    }\n",
       "</style>\n",
       "<table border=\"1\" class=\"dataframe\">\n",
       "  <thead>\n",
       "    <tr style=\"text-align: right;\">\n",
       "      <th></th>\n",
       "      <th>Date</th>\n",
       "      <th>Open</th>\n",
       "      <th>Close</th>\n",
       "      <th>High</th>\n",
       "      <th>Low</th>\n",
       "      <th>Volume</th>\n",
       "      <th>Adj Close</th>\n",
       "    </tr>\n",
       "  </thead>\n",
       "  <tbody>\n",
       "    <tr>\n",
       "      <th>count</th>\n",
       "      <td>253</td>\n",
       "      <td>253</td>\n",
       "      <td>253</td>\n",
       "      <td>253</td>\n",
       "      <td>253</td>\n",
       "      <td>253</td>\n",
       "      <td>253</td>\n",
       "    </tr>\n",
       "    <tr>\n",
       "      <th>unique</th>\n",
       "      <td>253</td>\n",
       "      <td>242</td>\n",
       "      <td>243</td>\n",
       "      <td>245</td>\n",
       "      <td>244</td>\n",
       "      <td>247</td>\n",
       "      <td>253</td>\n",
       "    </tr>\n",
       "    <tr>\n",
       "      <th>top</th>\n",
       "      <td>3/12/18</td>\n",
       "      <td>264.76001</td>\n",
       "      <td>243.380005</td>\n",
       "      <td>249.600006</td>\n",
       "      <td>243.990005</td>\n",
       "      <td>266.127502</td>\n",
       "      <td>48075500</td>\n",
       "    </tr>\n",
       "    <tr>\n",
       "      <th>freq</th>\n",
       "      <td>1</td>\n",
       "      <td>2</td>\n",
       "      <td>3</td>\n",
       "      <td>2</td>\n",
       "      <td>2</td>\n",
       "      <td>2</td>\n",
       "      <td>1</td>\n",
       "    </tr>\n",
       "  </tbody>\n",
       "</table>\n",
       "</div>"
      ],
      "text/plain": [
       "           Date       Open       Close        High         Low      Volume  \\\n",
       "count       253        253         253         253         253         253   \n",
       "unique      253        242         243         245         244         247   \n",
       "top     3/12/18  264.76001  243.380005  249.600006  243.990005  266.127502   \n",
       "freq          1          2           3           2           2           2   \n",
       "\n",
       "       Adj Close  \n",
       "count        253  \n",
       "unique       253  \n",
       "top     48075500  \n",
       "freq           1  "
      ]
     },
     "execution_count": 71,
     "metadata": {},
     "output_type": "execute_result"
    }
   ],
   "source": [
    "stock_df_rev.describe(include= 'all')"
   ]
  },
  {
   "cell_type": "code",
   "execution_count": 72,
   "metadata": {},
   "outputs": [
    {
     "ename": "SyntaxError",
     "evalue": "invalid syntax (<ipython-input-72-9852bd614a6b>, line 5)",
     "output_type": "error",
     "traceback": [
      "\u001b[0;36m  File \u001b[0;32m\"<ipython-input-72-9852bd614a6b>\"\u001b[0;36m, line \u001b[0;32m5\u001b[0m\n\u001b[0;31m    inplace='True')\u001b[0m\n\u001b[0m           ^\u001b[0m\n\u001b[0;31mSyntaxError\u001b[0m\u001b[0;31m:\u001b[0m invalid syntax\n"
     ]
    }
   ],
   "source": [
    "for value in ['Date', 'Open',\n",
    "          'Close', 'High',\n",
    "          'Low','Volume', 'Adj Close']:\n",
    "    stock_df_rev[value].replace(['?'], ([stock_df_rev.describe(include='all')[value][2]],\n",
    "                                inplace='True')"
   ]
  },
  {
   "cell_type": "code",
   "execution_count": 73,
   "metadata": {},
   "outputs": [],
   "source": [
    "le = preprocessing.LabelEncoder()\n",
    "Date_cat = le.fit_transform(stock_df.Date)\n",
    "Open_cat = le.fit_transform(stock_df.Open)\n",
    "Close_cat   = le.fit_transform(stock_df.Close)\n",
    "High_cat = le.fit_transform(stock_df.High)\n",
    "Low_cat = le.fit_transform(stock_df.Low)\n",
    "Volume_cat = le.fit_transform(stock_df.Volume)"
   ]
  },
  {
   "cell_type": "code",
   "execution_count": 74,
   "metadata": {},
   "outputs": [],
   "source": [
    "stock_df_rev['Date_cat'] = Date_cat\n",
    "stock_df_rev['Open_cat'] = Open_cat\n",
    "stock_df_rev['Close_cat'] = Close_cat\n",
    "stock_df_rev['High_cat'] = High_cat\n",
    "stock_df_rev['Low_cat'] = Low_cat\n",
    "stock_df_rev['Volume_cat'] = Volume_cat"
   ]
  },
  {
   "cell_type": "code",
   "execution_count": 75,
   "metadata": {},
   "outputs": [],
   "source": [
    "dummy_fields = ['Date', 'Open', 'Close', \n",
    "                  'High', 'Low', 'Volume']\n",
    "stock_df_rev = stock_df_rev.drop(dummy_fields, axis = 1)"
   ]
  },
  {
   "cell_type": "code",
   "execution_count": 76,
   "metadata": {},
   "outputs": [
    {
     "name": "stderr",
     "output_type": "stream",
     "text": [
      "/anaconda3/lib/python3.7/site-packages/ipykernel_launcher.py:3: FutureWarning: '.reindex_axis' is deprecated and will be removed in a future version. Use '.reindex' instead.\n",
      "  This is separate from the ipykernel package so we can avoid doing imports until\n"
     ]
    },
    {
     "data": {
      "text/html": [
       "<div>\n",
       "<style scoped>\n",
       "    .dataframe tbody tr th:only-of-type {\n",
       "        vertical-align: middle;\n",
       "    }\n",
       "\n",
       "    .dataframe tbody tr th {\n",
       "        vertical-align: top;\n",
       "    }\n",
       "\n",
       "    .dataframe thead th {\n",
       "        text-align: right;\n",
       "    }\n",
       "</style>\n",
       "<table border=\"1\" class=\"dataframe\">\n",
       "  <thead>\n",
       "    <tr style=\"text-align: right;\">\n",
       "      <th></th>\n",
       "      <th>Date_cat</th>\n",
       "      <th>Open_cat</th>\n",
       "      <th></th>\n",
       "      <th>Close_cat</th>\n",
       "      <th>High_cat</th>\n",
       "      <th>Low_cat</th>\n",
       "      <th>Volume_cat</th>\n",
       "    </tr>\n",
       "  </thead>\n",
       "  <tbody>\n",
       "    <tr>\n",
       "      <th>0</th>\n",
       "      <td>252</td>\n",
       "      <td>241</td>\n",
       "      <td>NaN</td>\n",
       "      <td>242</td>\n",
       "      <td>244</td>\n",
       "      <td>243</td>\n",
       "      <td>246</td>\n",
       "    </tr>\n",
       "  </tbody>\n",
       "</table>\n",
       "</div>"
      ],
      "text/plain": [
       "   Date_cat  Open_cat      Close_cat  High_cat  Low_cat  Volume_cat\n",
       "0       252       241 NaN        242       244      243         246"
      ]
     },
     "execution_count": 76,
     "metadata": {},
     "output_type": "execute_result"
    }
   ],
   "source": [
    "stock_df_rev = stock_df_rev.reindex_axis(['Date_cat', 'Open_cat', '', 'Close_cat',\n",
    "                                    'High_cat', 'Low_cat',\n",
    "                                    'Volume_cat',], axis= 1)\n",
    " \n",
    "stock_df_rev.head(1)"
   ]
  },
  {
   "cell_type": "code",
   "execution_count": 77,
   "metadata": {},
   "outputs": [],
   "source": [
    "num_features = ['Date_cat', 'Open_cat', 'Close_cat', 'High_cat', 'Low_cat',\n",
    "                'Volume_cat']\n",
    " \n",
    "scaled_features = {}\n",
    "for each in num_features:\n",
    "    mean, std = stock_df_rev[each].mean(), stock_df_rev[each].std()\n",
    "    scaled_features[each] = [mean, std]\n",
    "    stock_df_rev.loc[:, each] = (stock_df_rev[each] - mean)/std"
   ]
  },
  {
   "cell_type": "code",
   "execution_count": 78,
   "metadata": {},
   "outputs": [],
   "source": [
    "features = stock_df_rev.values[:,:1]\n",
    "target = stock_df_rev.values[:,1]\n",
    "features_train, features_test, target_train, target_test = train_test_split(features,\n",
    "                                                                            target, test_size = 0.33, random_state = 10)"
   ]
  },
  {
   "cell_type": "code",
   "execution_count": 79,
   "metadata": {},
   "outputs": [
    {
     "ename": "ValueError",
     "evalue": "Unknown label type: (array([-1.73282424, -1.70390383, -1.68944362, -1.67498342, -1.6316028 ,\n       -1.61714259, -1.60268239, -1.58822218, -1.55930177, -1.54484156,\n       -1.50146094, -1.48700074, -1.47254053, -1.44362012, -1.4146997 ,\n       -1.38577929, -1.35685888, -1.34239867, -1.32793847, -1.31347826,\n       -1.28455785, -1.25563744, -1.24117723, -1.1833364 , -1.1688762 ,\n       -1.12549558, -1.09657517, -1.08211496, -1.03873434, -1.02427414,\n       -1.00981393, -0.98089352, -0.96643331, -0.9375129 , -0.90859249,\n       -0.89413228, -0.87967207, -0.86521187, -0.83629145, -0.80737104,\n       -0.77845063, -0.76399042, -0.74953022, -0.73507001, -0.7061496 ,\n       -0.69168939, -0.66276898, -0.64830877, -0.63384857, -0.61938836,\n       -0.60492815, -0.59046795, -0.57600774, -0.56154754, -0.54708733,\n       -0.51816692, -0.50370671, -0.4892465 , -0.4747863 , -0.46032609,\n       -0.43140568, -0.41694547, -0.40248527, -0.38802506, -0.37356485,\n       -0.34464444, -0.33018424, -0.28680362, -0.27234341, -0.243423  ,\n       -0.22896279, -0.21450259, -0.20004238, -0.17112197, -0.15666176,\n       -0.14220155, -0.12774135, -0.11328114, -0.08436073, -0.05544032,\n       -0.04098011, -0.0265199 , -0.0120597 ,  0.00240051,  0.01686071,\n        0.03132092,  0.04578113,  0.07470154,  0.08916175,  0.10362195,\n        0.11808216,  0.14700257,  0.16146278,  0.19038319,  0.23376381,\n        0.24822401,  0.26268422,  0.27714443,  0.30606484,  0.33498525,\n        0.34944546,  0.36390566,  0.37836587,  0.39282608,  0.42174649,\n        0.4362067 ,  0.4506669 ,  0.46512711,  0.47958731,  0.49404752,\n        0.50850773,  0.52296793,  0.53742814,  0.55188835,  0.59526897,\n        0.60972917,  0.62418938,  0.63864958,  0.6820302 ,  0.73987103,\n        0.75433123,  0.78325165,  0.79771185,  0.82663227,  0.84109247,\n        0.85555268,  0.87001288,  0.88447309,  0.8989333 ,  0.95677412,\n        1.01461495,  1.02907515,  1.05799557,  1.08691598,  1.10137618,\n        1.11583639,  1.1447568 ,  1.15921701,  1.17367722,  1.18813742,\n        1.23151804,  1.26043845,  1.27489866,  1.28935887,  1.30381907,\n        1.31827928,  1.3761201 ,  1.39058031,  1.41950072,  1.43396093,\n        1.44842113,  1.46288134,  1.47734155,  1.49180175,  1.50626196,\n        1.52072217,  1.53518237,  1.54964258,  1.56410278,  1.57856299,\n        1.5930232 ,  1.6074834 ,  1.67978443,  1.72316505,  1.73762526]),)",
     "output_type": "error",
     "traceback": [
      "\u001b[0;31m---------------------------------------------------------------------------\u001b[0m",
      "\u001b[0;31mValueError\u001b[0m                                Traceback (most recent call last)",
      "\u001b[0;32m<ipython-input-79-85563e9c7073>\u001b[0m in \u001b[0;36m<module>\u001b[0;34m\u001b[0m\n\u001b[1;32m      1\u001b[0m \u001b[0mclf\u001b[0m \u001b[0;34m=\u001b[0m \u001b[0mGaussianNB\u001b[0m\u001b[0;34m(\u001b[0m\u001b[0;34m)\u001b[0m\u001b[0;34m\u001b[0m\u001b[0;34m\u001b[0m\u001b[0m\n\u001b[0;32m----> 2\u001b[0;31m \u001b[0mclf\u001b[0m\u001b[0;34m.\u001b[0m\u001b[0mfit\u001b[0m\u001b[0;34m(\u001b[0m\u001b[0mfeatures_train\u001b[0m\u001b[0;34m,\u001b[0m \u001b[0mtarget_train\u001b[0m\u001b[0;34m)\u001b[0m\u001b[0;34m\u001b[0m\u001b[0;34m\u001b[0m\u001b[0m\n\u001b[0m\u001b[1;32m      3\u001b[0m \u001b[0mtarget_pred\u001b[0m \u001b[0;34m=\u001b[0m \u001b[0mclf\u001b[0m\u001b[0;34m.\u001b[0m\u001b[0mpredict\u001b[0m\u001b[0;34m(\u001b[0m\u001b[0mfeatures_test\u001b[0m\u001b[0;34m)\u001b[0m\u001b[0;34m\u001b[0m\u001b[0;34m\u001b[0m\u001b[0m\n\u001b[1;32m      4\u001b[0m \u001b[0maccuracy_score\u001b[0m\u001b[0;34m(\u001b[0m\u001b[0mtarget_test\u001b[0m\u001b[0;34m,\u001b[0m \u001b[0mtarget_pred\u001b[0m\u001b[0;34m,\u001b[0m \u001b[0mnormalize\u001b[0m \u001b[0;34m=\u001b[0m \u001b[0;32mTrue\u001b[0m\u001b[0;34m)\u001b[0m\u001b[0;34m\u001b[0m\u001b[0;34m\u001b[0m\u001b[0m\n",
      "\u001b[0;32m/anaconda3/lib/python3.7/site-packages/sklearn/naive_bayes.py\u001b[0m in \u001b[0;36mfit\u001b[0;34m(self, X, y, sample_weight)\u001b[0m\n\u001b[1;32m    190\u001b[0m         \u001b[0mX\u001b[0m\u001b[0;34m,\u001b[0m \u001b[0my\u001b[0m \u001b[0;34m=\u001b[0m \u001b[0mcheck_X_y\u001b[0m\u001b[0;34m(\u001b[0m\u001b[0mX\u001b[0m\u001b[0;34m,\u001b[0m \u001b[0my\u001b[0m\u001b[0;34m)\u001b[0m\u001b[0;34m\u001b[0m\u001b[0;34m\u001b[0m\u001b[0m\n\u001b[1;32m    191\u001b[0m         return self._partial_fit(X, y, np.unique(y), _refit=True,\n\u001b[0;32m--> 192\u001b[0;31m                                  sample_weight=sample_weight)\n\u001b[0m\u001b[1;32m    193\u001b[0m \u001b[0;34m\u001b[0m\u001b[0m\n\u001b[1;32m    194\u001b[0m     \u001b[0;34m@\u001b[0m\u001b[0mstaticmethod\u001b[0m\u001b[0;34m\u001b[0m\u001b[0;34m\u001b[0m\u001b[0m\n",
      "\u001b[0;32m/anaconda3/lib/python3.7/site-packages/sklearn/naive_bayes.py\u001b[0m in \u001b[0;36m_partial_fit\u001b[0;34m(self, X, y, classes, _refit, sample_weight)\u001b[0m\n\u001b[1;32m    353\u001b[0m             \u001b[0mself\u001b[0m\u001b[0;34m.\u001b[0m\u001b[0mclasses_\u001b[0m \u001b[0;34m=\u001b[0m \u001b[0;32mNone\u001b[0m\u001b[0;34m\u001b[0m\u001b[0;34m\u001b[0m\u001b[0m\n\u001b[1;32m    354\u001b[0m \u001b[0;34m\u001b[0m\u001b[0m\n\u001b[0;32m--> 355\u001b[0;31m         \u001b[0;32mif\u001b[0m \u001b[0m_check_partial_fit_first_call\u001b[0m\u001b[0;34m(\u001b[0m\u001b[0mself\u001b[0m\u001b[0;34m,\u001b[0m \u001b[0mclasses\u001b[0m\u001b[0;34m)\u001b[0m\u001b[0;34m:\u001b[0m\u001b[0;34m\u001b[0m\u001b[0;34m\u001b[0m\u001b[0m\n\u001b[0m\u001b[1;32m    356\u001b[0m             \u001b[0;31m# This is the first call to partial_fit:\u001b[0m\u001b[0;34m\u001b[0m\u001b[0;34m\u001b[0m\u001b[0;34m\u001b[0m\u001b[0m\n\u001b[1;32m    357\u001b[0m             \u001b[0;31m# initialize various cumulative counters\u001b[0m\u001b[0;34m\u001b[0m\u001b[0;34m\u001b[0m\u001b[0;34m\u001b[0m\u001b[0m\n",
      "\u001b[0;32m/anaconda3/lib/python3.7/site-packages/sklearn/utils/multiclass.py\u001b[0m in \u001b[0;36m_check_partial_fit_first_call\u001b[0;34m(clf, classes)\u001b[0m\n\u001b[1;32m    318\u001b[0m         \u001b[0;32melse\u001b[0m\u001b[0;34m:\u001b[0m\u001b[0;34m\u001b[0m\u001b[0;34m\u001b[0m\u001b[0m\n\u001b[1;32m    319\u001b[0m             \u001b[0;31m# This is the first call to partial_fit\u001b[0m\u001b[0;34m\u001b[0m\u001b[0;34m\u001b[0m\u001b[0;34m\u001b[0m\u001b[0m\n\u001b[0;32m--> 320\u001b[0;31m             \u001b[0mclf\u001b[0m\u001b[0;34m.\u001b[0m\u001b[0mclasses_\u001b[0m \u001b[0;34m=\u001b[0m \u001b[0munique_labels\u001b[0m\u001b[0;34m(\u001b[0m\u001b[0mclasses\u001b[0m\u001b[0;34m)\u001b[0m\u001b[0;34m\u001b[0m\u001b[0;34m\u001b[0m\u001b[0m\n\u001b[0m\u001b[1;32m    321\u001b[0m             \u001b[0;32mreturn\u001b[0m \u001b[0;32mTrue\u001b[0m\u001b[0;34m\u001b[0m\u001b[0;34m\u001b[0m\u001b[0m\n\u001b[1;32m    322\u001b[0m \u001b[0;34m\u001b[0m\u001b[0m\n",
      "\u001b[0;32m/anaconda3/lib/python3.7/site-packages/sklearn/utils/multiclass.py\u001b[0m in \u001b[0;36munique_labels\u001b[0;34m(*ys)\u001b[0m\n\u001b[1;32m     94\u001b[0m     \u001b[0m_unique_labels\u001b[0m \u001b[0;34m=\u001b[0m \u001b[0m_FN_UNIQUE_LABELS\u001b[0m\u001b[0;34m.\u001b[0m\u001b[0mget\u001b[0m\u001b[0;34m(\u001b[0m\u001b[0mlabel_type\u001b[0m\u001b[0;34m,\u001b[0m \u001b[0;32mNone\u001b[0m\u001b[0;34m)\u001b[0m\u001b[0;34m\u001b[0m\u001b[0;34m\u001b[0m\u001b[0m\n\u001b[1;32m     95\u001b[0m     \u001b[0;32mif\u001b[0m \u001b[0;32mnot\u001b[0m \u001b[0m_unique_labels\u001b[0m\u001b[0;34m:\u001b[0m\u001b[0;34m\u001b[0m\u001b[0;34m\u001b[0m\u001b[0m\n\u001b[0;32m---> 96\u001b[0;31m         \u001b[0;32mraise\u001b[0m \u001b[0mValueError\u001b[0m\u001b[0;34m(\u001b[0m\u001b[0;34m\"Unknown label type: %s\"\u001b[0m \u001b[0;34m%\u001b[0m \u001b[0mrepr\u001b[0m\u001b[0;34m(\u001b[0m\u001b[0mys\u001b[0m\u001b[0;34m)\u001b[0m\u001b[0;34m)\u001b[0m\u001b[0;34m\u001b[0m\u001b[0;34m\u001b[0m\u001b[0m\n\u001b[0m\u001b[1;32m     97\u001b[0m \u001b[0;34m\u001b[0m\u001b[0m\n\u001b[1;32m     98\u001b[0m     \u001b[0mys_labels\u001b[0m \u001b[0;34m=\u001b[0m \u001b[0mset\u001b[0m\u001b[0;34m(\u001b[0m\u001b[0mchain\u001b[0m\u001b[0;34m.\u001b[0m\u001b[0mfrom_iterable\u001b[0m\u001b[0;34m(\u001b[0m\u001b[0m_unique_labels\u001b[0m\u001b[0;34m(\u001b[0m\u001b[0my\u001b[0m\u001b[0;34m)\u001b[0m \u001b[0;32mfor\u001b[0m \u001b[0my\u001b[0m \u001b[0;32min\u001b[0m \u001b[0mys\u001b[0m\u001b[0;34m)\u001b[0m\u001b[0;34m)\u001b[0m\u001b[0;34m\u001b[0m\u001b[0;34m\u001b[0m\u001b[0m\n",
      "\u001b[0;31mValueError\u001b[0m: Unknown label type: (array([-1.73282424, -1.70390383, -1.68944362, -1.67498342, -1.6316028 ,\n       -1.61714259, -1.60268239, -1.58822218, -1.55930177, -1.54484156,\n       -1.50146094, -1.48700074, -1.47254053, -1.44362012, -1.4146997 ,\n       -1.38577929, -1.35685888, -1.34239867, -1.32793847, -1.31347826,\n       -1.28455785, -1.25563744, -1.24117723, -1.1833364 , -1.1688762 ,\n       -1.12549558, -1.09657517, -1.08211496, -1.03873434, -1.02427414,\n       -1.00981393, -0.98089352, -0.96643331, -0.9375129 , -0.90859249,\n       -0.89413228, -0.87967207, -0.86521187, -0.83629145, -0.80737104,\n       -0.77845063, -0.76399042, -0.74953022, -0.73507001, -0.7061496 ,\n       -0.69168939, -0.66276898, -0.64830877, -0.63384857, -0.61938836,\n       -0.60492815, -0.59046795, -0.57600774, -0.56154754, -0.54708733,\n       -0.51816692, -0.50370671, -0.4892465 , -0.4747863 , -0.46032609,\n       -0.43140568, -0.41694547, -0.40248527, -0.38802506, -0.37356485,\n       -0.34464444, -0.33018424, -0.28680362, -0.27234341, -0.243423  ,\n       -0.22896279, -0.21450259, -0.20004238, -0.17112197, -0.15666176,\n       -0.14220155, -0.12774135, -0.11328114, -0.08436073, -0.05544032,\n       -0.04098011, -0.0265199 , -0.0120597 ,  0.00240051,  0.01686071,\n        0.03132092,  0.04578113,  0.07470154,  0.08916175,  0.10362195,\n        0.11808216,  0.14700257,  0.16146278,  0.19038319,  0.23376381,\n        0.24822401,  0.26268422,  0.27714443,  0.30606484,  0.33498525,\n        0.34944546,  0.36390566,  0.37836587,  0.39282608,  0.42174649,\n        0.4362067 ,  0.4506669 ,  0.46512711,  0.47958731,  0.49404752,\n        0.50850773,  0.52296793,  0.53742814,  0.55188835,  0.59526897,\n        0.60972917,  0.62418938,  0.63864958,  0.6820302 ,  0.73987103,\n        0.75433123,  0.78325165,  0.79771185,  0.82663227,  0.84109247,\n        0.85555268,  0.87001288,  0.88447309,  0.8989333 ,  0.95677412,\n        1.01461495,  1.02907515,  1.05799557,  1.08691598,  1.10137618,\n        1.11583639,  1.1447568 ,  1.15921701,  1.17367722,  1.18813742,\n        1.23151804,  1.26043845,  1.27489866,  1.28935887,  1.30381907,\n        1.31827928,  1.3761201 ,  1.39058031,  1.41950072,  1.43396093,\n        1.44842113,  1.46288134,  1.47734155,  1.49180175,  1.50626196,\n        1.52072217,  1.53518237,  1.54964258,  1.56410278,  1.57856299,\n        1.5930232 ,  1.6074834 ,  1.67978443,  1.72316505,  1.73762526]),)"
     ]
    }
   ],
   "source": [
    "clf = GaussianNB()\n",
    "clf.fit(features_train, target_train)\n",
    "target_pred = clf.predict(features_test)\n",
    "accuracy_score(target_test, target_pred, normalize = True)"
   ]
  },
  {
   "cell_type": "code",
   "execution_count": null,
   "metadata": {},
   "outputs": [],
   "source": []
  }
 ],
 "metadata": {
  "kernelspec": {
   "display_name": "Python 3",
   "language": "python",
   "name": "python3"
  },
  "language_info": {
   "codemirror_mode": {
    "name": "ipython",
    "version": 3
   },
   "file_extension": ".py",
   "mimetype": "text/x-python",
   "name": "python",
   "nbconvert_exporter": "python",
   "pygments_lexer": "ipython3",
   "version": "3.7.3"
  }
 },
 "nbformat": 4,
 "nbformat_minor": 2
}
