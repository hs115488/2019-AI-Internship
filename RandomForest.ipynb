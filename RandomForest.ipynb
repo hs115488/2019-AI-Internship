{
 "cells": [
  {
   "cell_type": "code",
   "execution_count": 1723,
   "metadata": {},
   "outputs": [
    {
     "data": {
      "text/plain": [
       "'/Users/ambarruiz/Documents/2019-AI-Internship'"
      ]
     },
     "execution_count": 1723,
     "metadata": {},
     "output_type": "execute_result"
    }
   ],
   "source": [
    "import os \n",
    "path =\"/Users/ambarruiz/Documents/2019-AI-Internship\"\n",
    "os.chdir(path)\n",
    "os.getcwd()"
   ]
  },
  {
   "cell_type": "code",
   "execution_count": 1724,
   "metadata": {},
   "outputs": [],
   "source": [
    "import numpy as np\n",
    "import pandas as pd\n",
    "from sklearn.ensemble import RandomForestClassifier"
   ]
  },
  {
   "cell_type": "code",
   "execution_count": 1725,
   "metadata": {},
   "outputs": [],
   "source": [
    "data = pd.read_csv('spystocks.csv')\n",
    "data ['Date'] = pd.to_datetime(data['Date'], infer_datetime_format=True)\n",
    "data = data.set_index(['Date'])\n"
   ]
  },
  {
   "cell_type": "code",
   "execution_count": 1726,
   "metadata": {},
   "outputs": [
    {
     "name": "stdout",
     "output_type": "stream",
     "text": [
      "                  Open        High         Low       Close   Adj Close  \\\n",
      "Date                                                                     \n",
      "1997-06-02   85.343750   85.500000   84.718750   84.781250   56.808811   \n",
      "1997-06-03   84.406250   85.437500   84.343750   84.500000   56.620316   \n",
      "1997-06-04   84.531250   84.750000   84.078125   84.406250   56.557510   \n",
      "1997-06-05   84.593750   85.312500   84.421875   84.718750   56.766926   \n",
      "1997-06-06   84.593750   86.437500   84.593750   86.375000   57.876694   \n",
      "1997-06-09   86.437500   86.875000   86.343750   86.812500   58.169849   \n",
      "1997-06-10   86.843750   87.406250   86.500000   87.078125   58.347832   \n",
      "1997-06-11   87.000000   87.406250   86.828125   87.281250   58.483936   \n",
      "1997-06-12   87.875000   89.000000   87.562500   88.968750   59.614666   \n",
      "1997-06-13   89.062500   90.000000   88.906250   89.718750   60.117214   \n",
      "1997-06-16   89.750000   90.000000   89.468750   89.750000   60.138165   \n",
      "1997-06-17   89.437500   90.234375   88.937500   89.625000   60.054420   \n",
      "1997-06-18   89.125000   89.625000   88.968750   89.312500   59.845028   \n",
      "1997-06-19   89.609375   90.500000   89.375000   90.234375   60.462715   \n",
      "1997-06-20   89.937500   90.343750   89.500000   89.578125   60.256706   \n",
      "1997-06-23   89.406250   89.906250   87.343750   87.406250   58.795742   \n",
      "1997-06-24   88.250000   89.875000   88.000000   89.625000   60.288273   \n",
      "1997-06-25   89.484375   90.250000   87.937500   89.000000   59.867790   \n",
      "1997-06-26   88.843750   89.625000   87.687500   88.562500   59.573524   \n",
      "1997-06-27   88.968750   89.718750   88.687500   88.906250   59.804779   \n",
      "1997-06-30   88.906250   89.468750   87.875000   88.312500   59.405361   \n",
      "1997-07-01   88.500000   89.562500   88.390625   89.343750   60.099041   \n",
      "1997-07-02   89.562500   90.812500   89.218750   90.812500   61.087044   \n",
      "1997-07-03   91.875000   92.156250   91.468750   92.062500   61.927879   \n",
      "1997-07-07   92.375000   92.500000   90.906250   91.125000   61.297245   \n",
      "1997-07-08   91.250000   92.187500   91.187500   92.078125   61.938404   \n",
      "1997-07-09   92.312500   92.375000   90.031250   91.062500   61.255230   \n",
      "1997-07-10   91.125000   91.843750   90.484375   91.468750   61.528500   \n",
      "1997-07-11   91.593750   92.187500   91.375000   91.781250   61.738674   \n",
      "1997-07-14   91.890625   92.312500   91.218750   92.062500   61.927879   \n",
      "...                ...         ...         ...         ...         ...   \n",
      "2018-04-19  269.649994  269.880005  267.720001  268.890015  262.496033   \n",
      "2018-04-20  268.809998  269.059998  265.609985  266.609985  260.270203   \n",
      "2018-04-23  267.260010  267.890015  265.350006  266.570007  260.231171   \n",
      "2018-04-24  267.730011  267.980011  261.279999  262.980011  256.726563   \n",
      "2018-04-25  262.910004  264.130005  260.850006  263.630005  257.361084   \n",
      "2018-04-26  264.790009  267.250000  264.290009  266.309998  259.977386   \n",
      "2018-04-27  267.000000  267.339996  265.500000  266.559998  260.221405   \n",
      "2018-04-30  267.260010  267.890015  264.429993  264.510010  258.220184   \n",
      "2018-05-01  263.869995  265.100006  262.109985  264.980011  258.679016   \n",
      "2018-05-02  264.760010  265.679993  262.760010  263.200012  256.941345   \n",
      "2018-05-03  262.260010  263.359985  259.049988  262.619995  256.375092   \n",
      "2018-05-04  261.519989  266.790009  261.149994  266.019989  259.694275   \n",
      "2018-05-07  266.890015  268.019989  266.109985  266.920013  260.572906   \n",
      "2018-05-08  266.500000  267.329987  265.149994  266.920013  260.572906   \n",
      "2018-05-09  267.679993  269.869995  267.089996  269.500000  263.091492   \n",
      "2018-05-10  270.339996  272.390015  270.220001  272.019989  265.551544   \n",
      "2018-05-11  272.160004  273.149994  271.579987  272.850006  266.361816   \n",
      "2018-05-14  273.339996  274.079987  272.359985  272.980011  266.488770   \n",
      "2018-05-15  271.589996  271.609985  270.029999  271.100006  264.653442   \n",
      "2018-05-16  271.140015  272.760010  271.109985  272.239990  265.766296   \n",
      "2018-05-17  271.940002  273.230011  271.130005  272.010010  265.541840   \n",
      "2018-05-18  271.619995  272.029999  270.929993  271.329987  264.877991   \n",
      "2018-05-21  273.010010  273.980011  272.570007  273.369995  266.869446   \n",
      "2018-05-22  273.959991  274.250000  272.239990  272.609985  266.127502   \n",
      "2018-05-23  271.170013  273.390015  270.989990  273.359985  266.859711   \n",
      "2018-05-24  272.910004  273.220001  270.779999  272.799988  266.313049   \n",
      "2018-05-25  272.149994  272.859985  271.579987  272.149994  265.678497   \n",
      "2018-05-29  270.309998  271.170013  267.760010  269.019989  262.622894   \n",
      "2018-05-30  270.500000  273.109985  270.420013  272.609985  266.127502   \n",
      "2018-05-31  272.149994  272.489990  270.260010  270.940002  264.497223   \n",
      "\n",
      "               Volume  \n",
      "Date                   \n",
      "1997-06-02    1479100  \n",
      "1997-06-03    1562100  \n",
      "1997-06-04    1063100  \n",
      "1997-06-05    1180800  \n",
      "1997-06-06    1511100  \n",
      "1997-06-09    1823400  \n",
      "1997-06-10    1217500  \n",
      "1997-06-11    1673800  \n",
      "1997-06-12    4273300  \n",
      "1997-06-13    2132900  \n",
      "1997-06-16     800400  \n",
      "1997-06-17    2048100  \n",
      "1997-06-18    1971900  \n",
      "1997-06-19    2029900  \n",
      "1997-06-20    1396900  \n",
      "1997-06-23    3991500  \n",
      "1997-06-24    4895100  \n",
      "1997-06-25    4708900  \n",
      "1997-06-26    2569900  \n",
      "1997-06-27    2617900  \n",
      "1997-06-30    2384900  \n",
      "1997-07-01    1749000  \n",
      "1997-07-02    1961800  \n",
      "1997-07-03    2539100  \n",
      "1997-07-07    1158600  \n",
      "1997-07-08    3396500  \n",
      "1997-07-09    5390300  \n",
      "1997-07-10    2072200  \n",
      "1997-07-11    2258900  \n",
      "1997-07-14    3186400  \n",
      "...               ...  \n",
      "2018-04-19   77655900  \n",
      "2018-04-20   99953100  \n",
      "2018-04-23   65558000  \n",
      "2018-04-24  112885500  \n",
      "2018-04-25  103840900  \n",
      "2018-04-26   67731900  \n",
      "2018-04-27   57053600  \n",
      "2018-04-30   82182300  \n",
      "2018-05-01   74203400  \n",
      "2018-05-02   86368900  \n",
      "2018-05-03  136311500  \n",
      "2018-05-04   91222100  \n",
      "2018-05-07   55304900  \n",
      "2018-05-08   67499200  \n",
      "2018-05-09   59666100  \n",
      "2018-05-10   72063900  \n",
      "2018-05-11   59871500  \n",
      "2018-05-14   54790600  \n",
      "2018-05-15   87036100  \n",
      "2018-05-16   53942600  \n",
      "2018-05-17   56536400  \n",
      "2018-05-18   64368000  \n",
      "2018-05-21   58025900  \n",
      "2018-05-22   52966400  \n",
      "2018-05-23   64694200  \n",
      "2018-05-24   76043800  \n",
      "2018-05-25   56374800  \n",
      "2018-05-29  115908600  \n",
      "2018-05-30   69678400  \n",
      "2018-05-31   93519900  \n",
      "\n",
      "[5285 rows x 6 columns]\n"
     ]
    }
   ],
   "source": [
    "from datetime import datetime\n",
    "print(data)"
   ]
  },
  {
   "cell_type": "code",
   "execution_count": 1727,
   "metadata": {},
   "outputs": [],
   "source": [
    "# Features construction \n",
    "data['Open-Close'] = (data.Open - data.Close)/data.Open\n",
    "data['High-Low'] = (data.High - data.Low)/data.Low\n",
    "data['percent_change'] = data['Adj Close'].pct_change()\n",
    "data['std_2'] = data['percent_change'].rolling(2).std()\n",
    "data['ret_2'] = data['percent_change'].rolling(2).mean()\n",
    "data.dropna(inplace=True)\n",
    "# X is the input variable\n",
    "\n",
    "X = data[['Open-Close', 'High-Low', 'std_2', 'ret_2']]\n",
    "\n",
    "\n",
    "# Y is the target or output variable\n",
    "\n",
    "y = np.where(data['Adj Close'].shift(-1) > data['Adj Close'], 1, -1)"
   ]
  },
  {
   "cell_type": "code",
   "execution_count": 1732,
   "metadata": {},
   "outputs": [],
   "source": [
    "# Splitting the dataset into the Training set and Test set\n",
    "from sklearn.model_selection import train_test_split\n",
    "X_train, X_test, y_train, y_test = train_test_split(X, y, test_size = 0.25, random_state = 0)\n",
    "\n",
    "# Fitting Random Forest Classification to the Training set\n",
    "from sklearn.ensemble import RandomForestClassifier\n",
    "classifier = RandomForestClassifier(n_estimators = 900, criterion = 'gini', random_state = 0)\n",
    "classifier.fit(X_train, y_train)\n",
    "\n",
    "# Predicting Test set results\n",
    "y_pred = classifier.predict(X_test)\n",
    "\n",
    "# Making the Confusion Matrix\n",
    "from sklearn.metrics import confusion_matrix\n",
    "cm = confusion_matrix(y_test, y_pred)"
   ]
  },
  {
   "cell_type": "code",
   "execution_count": 1733,
   "metadata": {},
   "outputs": [
    {
     "name": "stdout",
     "output_type": "stream",
     "text": [
      "Correct Prediction (%):  86.44965934897805\n"
     ]
    }
   ],
   "source": [
    "from sklearn.metrics import accuracy_score\n",
    "print('Correct Prediction (%): ', accuracy_score(y_test, model.predict(X_test), normalize=True)*100.0)"
   ]
  },
  {
   "cell_type": "code",
   "execution_count": 1734,
   "metadata": {},
   "outputs": [
    {
     "name": "stdout",
     "output_type": "stream",
     "text": [
      "              precision    recall  f1-score   support\n",
      "\n",
      "          -1       0.84      0.88      0.86       608\n",
      "           1       0.89      0.86      0.87       713\n",
      "\n",
      "   micro avg       0.86      0.86      0.86      1321\n",
      "   macro avg       0.86      0.87      0.86      1321\n",
      "weighted avg       0.87      0.86      0.86      1321\n",
      "\n"
     ]
    }
   ],
   "source": [
    "# Run the code to view the classification report metrics\n",
    "from sklearn.metrics import classification_report\n",
    "report = classification_report(y_test, model.predict(X_test))\n",
    "print(report)"
   ]
  },
  {
   "cell_type": "code",
   "execution_count": 1735,
   "metadata": {},
   "outputs": [],
   "source": [
    "data['strategy_returns'] = data.percent_change.shift(-1) * model.predict(X)"
   ]
  },
  {
   "cell_type": "code",
   "execution_count": 1736,
   "metadata": {},
   "outputs": [
    {
     "data": {
      "image/png": "[encoded data removed]",
      "text/plain": [
       "<Figure size 432x288 with 1 Axes>"
      ]
     },
     "metadata": {
      "needs_background": "light"
     },
     "output_type": "display_data"
    }
   ],
   "source": [
    "%matplotlib inline\n",
    "import matplotlib.pyplot as plt\n",
    "data.strategy_returns[split:].hist()\n",
    "plt.xlabel('Strategy returns (%)')\n",
    "plt.show()\n",
    "\n",
    "\n",
    "#Output variable: If tomorrow’s close price is greater than today's close price then \n",
    "#the output variable is set to 1 and otherwise set to -1. 1 indicates to buy the stock\n",
    "#and -1 indicates to sell the stock\n",
    "\n",
    "\n",
    "\n",
    "\n",
    "#Daily returns histogram"
   ]
  },
  {
   "cell_type": "code",
   "execution_count": 1737,
   "metadata": {},
   "outputs": [
    {
     "data": {
      "image/png": "[encoded data removed]",
      "text/plain": [
       "<Figure size 720x288 with 1 Axes>"
      ]
     },
     "metadata": {
      "needs_background": "light"
     },
     "output_type": "display_data"
    }
   ],
   "source": [
    "\n",
    "import matplotlib.pylab as plt \n",
    "%matplotlib inline\n",
    "from matplotlib.pylab import rcParams\n",
    "rcParams['figure.figsize'] = 10,4\n",
    "\n",
    "(data.strategy_returns[split:]+1).cumprod().plot()\n",
    "plt.ylabel('Strategy returns (%)')\n",
    "plt.show()\n",
    "\n",
    "##The output displays the strategy returns and daily returns according to the code for \n",
    "#the Random Forest Classifier."
   ]
  },
  {
   "cell_type": "code",
   "execution_count": null,
   "metadata": {},
   "outputs": [],
   "source": []
  }
 ],
 "metadata": {
  "kernelspec": {
   "display_name": "Python 3",
   "language": "python",
   "name": "python3"
  },
  "language_info": {
   "codemirror_mode": {
    "name": "ipython",
    "version": 3
   },
   "file_extension": ".py",
   "mimetype": "text/x-python",
   "name": "python",
   "nbconvert_exporter": "python",
   "pygments_lexer": "ipython3",
   "version": "3.7.3"
  }
 },
 "nbformat": 4,
 "nbformat_minor": 2
}
