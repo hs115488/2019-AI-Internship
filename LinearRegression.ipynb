{
 "cells": [
  {
   "cell_type": "code",
   "execution_count": null,
   "metadata": {},
   "outputs": [],
   "source": [
    "import pandas \n",
    "import matplotlib.mlab as mlab\n",
    "from matplotlib import pyplot as plt\n",
    "import numpy as np\n",
    "import math \n",
    "from statsmodels.tsa.stattools import acf, pacf\n",
    "import statsmodels.tsa.stattools as ts \n",
    "from statsmodels.tsa.arima_model import ARIMA"
   ]
  },
  {
   "cell_type": "code",
   "execution_count": null,
   "metadata": {
    "scrolled": true
   },
   "outputs": [],
   "source": [
    "variables = pandas.read_csv('Stock.csv')\n",
    "\n",
    "price = variables ['Close']\n",
    "date = variables ['Date']\n",
    "plt.scatter (date,price) \n"
   ]
  },
  {
   "cell_type": "code",
   "execution_count": null,
   "metadata": {
    "scrolled": false
   },
   "outputs": [],
   "source": [
    "import fbprophet\n",
    "\n",
    "model = fbprophet.Prophet()\n",
    "variables['ds'] = date\n",
    "variables['y'] = price\n",
    "model.fit(variables)\n",
    "\n",
    "future = model.make_future_dataframe(periods=365)\n",
    "forecast = model.predict(future)\n",
    "\n",
    "model.plot(forecast)\n",
    "model.plot_components(forecast)\n"
   ]
  },
  {
   "cell_type": "code",
   "execution_count": null,
   "metadata": {
    "scrolled": true
   },
   "outputs": [],
   "source": [
    "\n",
    "import numpy as np\n",
    "import string\n",
    "\n",
    "dates= []\n",
    "for i in range(0, len(date)):\n",
    "    dates.append(i)\n",
    "plt.scatter(date, price)\n",
    "\n",
    "\n",
    "\n"
   ]
  },
  {
   "cell_type": "code",
   "execution_count": null,
   "metadata": {},
   "outputs": [],
   "source": [
    "import numpy as np\n",
    "dates1 = np.reshape(dates, (-1, 1))\n",
    "\n",
    "from sklearn import linear_model\n",
    "from sklearn.preprocessing import PolynomialFeatures\n",
    "\n",
    "poly = PolynomialFeatures(degree = 10)\n",
    "X_poly = poly.fit_transform(dates1)\n",
    "poly.fit(X_poly, price)\n",
    "lin2 = linear_model.LinearRegression()\n",
    "lin2.fit(X_poly, price)\n",
    "regr = linear_model.LinearRegression()\n",
    "regr.fit(dates1, price)\n",
    "p = regr.predict(dates1)\n",
    "q =lin2.predict(poly.fit_transform(dates1))"
   ]
  },
  {
   "cell_type": "code",
   "execution_count": null,
   "metadata": {
    "scrolled": true
   },
   "outputs": [],
   "source": [
    "\n",
    "\n",
    "plt.scatter(dates1, price, color = \"red\")\n",
    "plt.plot(dates1, p, color =\"green\")\n",
    "plt.plot(dates1, q, color =\"blue\")\n"
   ]
  },
  {
   "cell_type": "code",
   "execution_count": null,
   "metadata": {},
   "outputs": [],
   "source": [
    "\n",
    "regr.score(dates1, p)"
   ]
  },
  {
   "cell_type": "code",
   "execution_count": null,
   "metadata": {},
   "outputs": [],
   "source": [
    "from sklearn.model_selection import train_test_split\n",
    "X_train, X_test, y_train, y_test = train_test_split(dates1, price)\n",
    "\n",
    "y_pred = regr.predict(X_test)"
   ]
  },
  {
   "cell_type": "code",
   "execution_count": null,
   "metadata": {
    "scrolled": true
   },
   "outputs": [],
   "source": [
    "from sklearn.metrics import mean_squared_error\n",
    "mean_squared_error(y_test, y_pred)\n",
    "\n",
    "\n",
    "import numpy as np\n"
   ]
  },
  {
   "cell_type": "code",
   "execution_count": null,
   "metadata": {
    "scrolled": true
   },
   "outputs": [],
   "source": [
    "from sklearn.svm import SVR\n",
    "linear = SVR(kernel = \"linear\")\n",
    "poly = SVR(kernel = \"poly\")\n",
    "\n",
    "y_lin = linear.fit(dates1, price).predict(dates1)\n",
    "y_poly = poly.fit(dates1, price).predict(dates1)\n",
    "model1.fit(X_train, y_train)\n",
    "\n",
    "plt.plot(dates1, y_lin)\n"
   ]
  },
  {
   "cell_type": "code",
   "execution_count": null,
   "metadata": {},
   "outputs": [],
   "source": [
    "mean_squared_error(y_test,predictions)"
   ]
  },
  {
   "cell_type": "code",
   "execution_count": null,
   "metadata": {},
   "outputs": [],
   "source": []
  },
  {
   "cell_type": "code",
   "execution_count": null,
   "metadata": {},
   "outputs": [],
   "source": []
  },
  {
   "cell_type": "code",
   "execution_count": null,
   "metadata": {},
   "outputs": [],
   "source": []
  }
 ],
 "metadata": {
  "kernelspec": {
   "display_name": "Python 3",
   "language": "python",
   "name": "python3"
  },
  "language_info": {
   "codemirror_mode": {
    "name": "ipython",
    "version": 3
   },
   "file_extension": ".py",
   "mimetype": "text/x-python",
   "name": "python",
   "nbconvert_exporter": "python",
   "pygments_lexer": "ipython3",
   "version": "3.7.3"
  }
 },
 "nbformat": 4,
 "nbformat_minor": 2
}
